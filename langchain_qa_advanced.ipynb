{
 "cells": [
  {
   "cell_type": "code",
   "execution_count": 8,
   "metadata": {},
   "outputs": [],
   "source": [
    "%load_ext dotenv \n",
    "%dotenv\n",
    "import os\n",
    "import warnings\n",
    "import openai\n",
    "import textwrap\n",
    "import pandas as pd\n",
    "\n",
    "warnings.filterwarnings('ignore')\n",
    "openai.api_key = os.environ[\"OPENAI_API_KEY\"]"
   ]
  },
  {
   "cell_type": "code",
   "execution_count": 2,
   "metadata": {},
   "outputs": [],
   "source": [
    "# langchain imports\n",
    "from langchain.chains import RetrievalQA\n",
    "from langchain.chat_models import ChatOpenAI\n",
    "from langchain.document_loaders import CSVLoader\n",
    "from langchain.vectorstores import DocArrayInMemorySearch\n",
    "from IPython.display import display, Markdown\n",
    "from langchain.indexes import VectorstoreIndexCreator"
   ]
  },
  {
   "cell_type": "code",
   "execution_count": 55,
   "metadata": {},
   "outputs": [],
   "source": [
    "df = pd.read_csv(\"project_descriptions.csv\")\n",
    "df[\"length\"] = df[\"content\"].apply(lambda x: len(x.split(\" \")))\n",
    "df = df.drop(columns=[\"qa_list\"])\n",
    "df = df.head(20)\n",
    "df.to_csv(\"project_descriptions_clean.csv\", index=False)"
   ]
  },
  {
   "cell_type": "code",
   "execution_count": 56,
   "metadata": {},
   "outputs": [],
   "source": [
    "loader = CSVLoader(file_path=\"project_descriptions_clean.csv\", source_column=\"content\")\n",
    "\n",
    "index = VectorstoreIndexCreator(\n",
    "    vectorstore_cls=DocArrayInMemorySearch\n",
    ").from_loaders([loader])"
   ]
  },
  {
   "cell_type": "code",
   "execution_count": 57,
   "metadata": {},
   "outputs": [],
   "source": [
    "llm = ChatOpenAI(temperature = 0.0)\n",
    "qa = RetrievalQA.from_chain_type(\n",
    "    llm=llm, \n",
    "    chain_type=\"stuff\", \n",
    "    retriever=index.vectorstore.as_retriever(), \n",
    "    verbose=True,\n",
    "    chain_type_kwargs = {\n",
    "        \"document_separator\": \"<<<<>>>>>\"\n",
    "    }\n",
    ")"
   ]
  },
  {
   "attachments": {},
   "cell_type": "markdown",
   "metadata": {},
   "source": [
    "### Generate sample question aswer pairs for provided documents"
   ]
  },
  {
   "cell_type": "code",
   "execution_count": 60,
   "metadata": {},
   "outputs": [],
   "source": [
    "from langchain.evaluation.qa import QAGenerateChain\n",
    "\n",
    "example_gen_chain = QAGenerateChain.from_llm(ChatOpenAI())\n",
    "\n",
    "data = loader.load()\n",
    "# data\n",
    "\n",
    "new_examples = example_gen_chain.apply_and_parse(\n",
    "    [{\"doc\": t.page_content} for t in data[:10]]\n",
    ")"
   ]
  },
  {
   "cell_type": "code",
   "execution_count": 61,
   "metadata": {},
   "outputs": [
    {
     "data": {
      "text/plain": [
       "[{'query': 'What is the current market cap of Bitcoin and how many BTC coins are in circulation?',\n",
       "  'answer': 'The current live market cap of Bitcoin is $330,270,059,122 USD and there are 19,230,868 BTC coins in circulation with a max. supply of 21,000,000 BTC coins.'},\n",
       " {'query': 'What is Ethereum and how does it differ from other cryptocurrencies?',\n",
       "  'answer': 'Ethereum is a decentralized open-source blockchain system that features its own cryptocurrency, Ether, and works as a platform for numerous other cryptocurrencies, as well as for the execution of decentralized smart contracts. Ethereum differs from other'},\n",
       " {'query': 'What is Tether and how does it differ from other cryptocurrencies?',\n",
       "  'answer': 'Tether (USDT) is a stablecoin that mirrors the price of the U.S. dollar and is issued by a Hong Kong-based company, Tether. Its unique feature is its value being guaranteed by Tether to remain pegged to the U.S. dollar. This is achieved by maintaining a sum of commercial paper, fiduciary deposits, cash, reserve repo notes, and treasury bills in reserves that is equal in USD value to the number of USDT in circulation. Unlike other cryptocurrencies, USDT is protected from the high volatility of the crypto markets, making it a safe haven for crypto investors during periods of high volatility. USDT also provides a simple way to transact a U.S. dollar equivalent between regions, countries, and even continents via blockchain — without having to rely on a slow and expensive intermediary, like a bank or a financial services provider.'},\n",
       " {'query': \"What is Binance's mission?\",\n",
       "  'answer': \"According to the company website, Binance's mission is to become the infrastructure services provider for the entire blockchain ecosystem.\"},\n",
       " {'query': 'What is USD Coin (USDC) and how is it backed up?',\n",
       "  'answer': 'USD Coin (USDC) is a stablecoin that is pegged to the U.S. dollar on a 1:1 basis and is backed up by $1 held in reserve, in a mix of cash and short-term U.S. Treasury bonds. The Centre consortium, which is behind this asset, says USDC is issued by regulated financial institutions.'},\n",
       " {'query': 'What is Binance USD (BUSD) and how is it backed?',\n",
       "  'answer': 'Binance USD (BUSD) is a 1:1 USD-backed stable coin issued by Binance (in partnership with Paxos). It is backed by reserves held in either or both fiat cash in dedicated omnibus accounts at insured U.S. banks and/or U.S. Treasury bills. As of June 30, 2022, 96% of the assets backing the Binance USD were held in cash and cash equivalents, while 4% were invested in U.S. Treasury bills, according to Paxos.'},\n",
       " {'query': 'What is the current price of XRP, and what is its 24-hour trading volume?',\n",
       "  'answer': 'The live XRP price today is $0.387021 USD with a 24-hour trading volume of $301,590,499 USD.'},\n",
       " {'query': 'How was Dogecoin created and what was its purpose?',\n",
       "  'answer': 'Dogecoin was created in December 2013 by Billy Markus and Jackson Palmer. It was based on the popular \"doge\" Internet meme and features a Shiba Inu on its logo. The creators intended it to be a fun and light-hearted cryptocurrency with greater appeal beyond the core Bitcoin audience, since it was based on a dog meme. It was forked from Litecoin and uses Scrypt technology. Its purpose was primarily as a tipping system on Reddit and Twitter to reward the creation or sharing of quality content.'},\n",
       " {'query': \"What is Cardano's Ouroboros protocol and how does it secure the network?\",\n",
       "  'answer': \"Cardano's Ouroboros protocol is a proof-of-stake consensus mechanism that uses substantially less power than Bitcoin's proof-of-work mechanism. It is described as a blend of unique technology and mathematically verified mechanisms, with behavioral psychology and economic philosophy thrown in for good measure. The objective of Ouroboros is to achieve sustainable and ethical growth, while an incentive mechanism means that participants in the network are rewarded for their involvement.\"},\n",
       " {'query': 'What is Polygon, and how does it aim to solve the scalability issues of many blockchains?',\n",
       "  'answer': \"Polygon (formerly Matic Network) is a Layer 2 scaling solution that seeks to resolve the problems of scalability on many blockchains. It is a well-structured, easy-to-use platform for Ethereum scaling and infrastructure development. Its core component is the Polygon SDK, a modular, flexible framework that supports building multiple types of applications. Using Polygon, one can create optimistic rollup chains, ZK rollup chains, stand-alone chains, or any other kind of infra required by the developer. Polygon effectively transforms Ethereum into a full-fledged multi-chain system (aka Internet of Blockchains), which is similar to other multi-chain systems such as Polkadot, Cosmos, and Avalanche, with the advantages of Ethereum's security, vibrant ecosystem, and openness. Polygon is unique in that it is a Layer 2 scaling solution, which means that it doesn’t seek to upgrade its current basic blockchain layer any time soon. The project focuses on reducing the complexity of scalability and instant blockchain transactions.\"}]"
      ]
     },
     "execution_count": 61,
     "metadata": {},
     "output_type": "execute_result"
    }
   ],
   "source": [
    "new_examples"
   ]
  },
  {
   "cell_type": "code",
   "execution_count": 62,
   "metadata": {},
   "outputs": [
    {
     "data": {
      "text/markdown": [
       " I don't know."
      ],
      "text/plain": [
       "<IPython.core.display.Markdown object>"
      ]
     },
     "metadata": {},
     "output_type": "display_data"
    }
   ],
   "source": [
    "query = \"What are some of the best crypto projects related to artificial intelligence and why?\"\n",
    "\n",
    "response = index.query(query)\n",
    "display(Markdown(response))"
   ]
  },
  {
   "attachments": {},
   "cell_type": "markdown",
   "metadata": {},
   "source": [
    "#### Simple chain for chat"
   ]
  },
  {
   "cell_type": "code",
   "execution_count": 17,
   "metadata": {},
   "outputs": [],
   "source": [
    "from langchain.chat_models import ChatOpenAI\n",
    "from langchain.schema import (\n",
    "    SystemMessage,\n",
    "    HumanMessage,\n",
    "    AIMessage\n",
    ")\n",
    "\n",
    "# To control the randomness and creativity of the generated\n",
    "# text by an LLM, use temperature = 0.0\n",
    "chat = ChatOpenAI(\n",
    "    openai_api_key=os.environ[\"OPENAI_API_KEY\"],\n",
    "    temperature=0,\n",
    "    model='gpt-3.5-turbo'\n",
    ")"
   ]
  },
  {
   "cell_type": "code",
   "execution_count": 35,
   "metadata": {},
   "outputs": [],
   "source": [
    "query = \"What are some of the best crypto projects related to artificial intelligence and why? give me a list of at least 5\"\n",
    "\n",
    "messages = [\n",
    "    SystemMessage(content=\"You are a helpful assistant who is an expert in cryptocurrencies.\"),\n",
    "    HumanMessage(content=query)\n",
    "]\n",
    "response = chat(messages)"
   ]
  },
  {
   "cell_type": "code",
   "execution_count": 34,
   "metadata": {},
   "outputs": [
    {
     "data": {
      "text/markdown": [
       "Sure, here are 10 crypto projects related to artificial intelligence:\n",
       "\n",
       "1. SingularityNET (AGI) - This project aims to create a decentralized marketplace for AI services, allowing developers to monetize their AI algorithms and models.\n",
       "\n",
       "2. Fetch.ai (FET) - This project is building a decentralized network for autonomous economic agents, which can perform tasks such as data analysis and prediction using AI.\n",
       "\n",
       "3. Ocean Protocol (OCEAN) - This project is creating a decentralized data exchange protocol that uses AI to help users discover and monetize their data.\n",
       "\n",
       "4. Numerai (NMR) - This project is a hedge fund that uses AI to make investment decisions. It also allows data scientists to contribute their own AI models to the fund.\n",
       "\n",
       "5. Cortex (CTXC) - This project is building a decentralized AI platform that allows developers to create and deploy AI models on the blockchain.\n",
       "\n",
       "6. DeepBrain Chain (DBC) - This project is building a decentralized AI computing platform that allows users to rent out their computing power to train AI models.\n",
       "\n",
       "7. Matrix AI Network (MAN) - This project is building a blockchain-based AI platform that allows developers to create and deploy AI models using natural language programming.\n",
       "\n",
       "8. Neuromation (NTK) - This project is building a decentralized platform for AI model training and development, using blockchain technology to ensure data privacy and security.\n",
       "\n",
       "9. Endor Protocol (EDR) - This project is building a decentralized predictive analytics platform that uses AI to help businesses make better decisions.\n",
       "\n",
       "10. AICoin (XAI) - This project is a cryptocurrency investment fund that uses AI to make investment decisions, with profits reinvested into the development of AI technology.\n",
       "\n",
       "These projects are all focused on using blockchain technology to improve the development and deployment of AI, and have the potential to revolutionize industries such as finance, healthcare, and more."
      ],
      "text/plain": [
       "<IPython.core.display.Markdown object>"
      ]
     },
     "metadata": {},
     "output_type": "display_data"
    }
   ],
   "source": [
    "display(Markdown(response.content))"
   ]
  }
 ],
 "metadata": {
  "kernelspec": {
   "display_name": "llms-playground-fbsR-P48-py3.10",
   "language": "python",
   "name": "python3"
  },
  "language_info": {
   "codemirror_mode": {
    "name": "ipython",
    "version": 3
   },
   "file_extension": ".py",
   "mimetype": "text/x-python",
   "name": "python",
   "nbconvert_exporter": "python",
   "pygments_lexer": "ipython3",
   "version": "3.10.11"
  },
  "orig_nbformat": 4
 },
 "nbformat": 4,
 "nbformat_minor": 2
}
