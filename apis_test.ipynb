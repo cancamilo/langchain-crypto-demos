{
 "cells": [
  {
   "cell_type": "code",
   "execution_count": 6,
   "metadata": {},
   "outputs": [],
   "source": [
    "import os\n",
    "import openai\n",
    "import requests\n",
    "from dotenv import load_dotenv, find_dotenv\n",
    "_ = load_dotenv(find_dotenv()) # read local .env file\n",
    "\n",
    "openai.api_key = os.environ['OPENAI_API_KEY']\n",
    "news_apy_key = os.environ[\"FINEWS_API_KEY\"]"
   ]
  },
  {
   "cell_type": "code",
   "execution_count": 34,
   "metadata": {},
   "outputs": [
    {
     "data": {
      "text/plain": [
       "'https://api.apilayer.com/financelayer/news?sources=forbes.com,bloomberg.com&keywords=bitcoin&offset=0&limit=3&fallback=off&date=today'"
      ]
     },
     "execution_count": 34,
     "metadata": {},
     "output_type": "execute_result"
    }
   ],
   "source": [
    "url = \"https://api.apilayer.com/financelayer/news?sources=forbes.com,bloomberg.com&keywords=bitcoin&offset=0&limit=3&fallback=off&date=today\"\n",
    "\n",
    "payload = {}\n",
    "headers= {\n",
    "  \"apikey\": \"rJb1jeBhiFHxZ8BRXszkkCocDiCUK7jo\"\n",
    "}\n",
    "\n",
    "url"
   ]
  },
  {
   "cell_type": "code",
   "execution_count": 35,
   "metadata": {},
   "outputs": [],
   "source": [
    "response = requests.request(\"GET\", url, headers=headers, data = payload)\n",
    "\n",
    "status_code = response.status_code\n",
    "result = response.text"
   ]
  },
  {
   "cell_type": "code",
   "execution_count": 36,
   "metadata": {},
   "outputs": [
    {
     "data": {
      "text/plain": [
       "'{\\n    \"pagination\": {\\n        \"limit\": 3,\\n        \"offset\": 0,\\n        \"count\": 1,\\n        \"total\": 1\\n    },\\n    \"data\": [\\n        {\\n            \"title\": \"Crypto Market Notches 12% Weekly Gain As Old-School Financial Firms Come Out To Play\",\\n            \"url\": \"https://www.forbes.com/sites/digital-assets/2023/06/23/crypto-market-notches-12-weekly-gain-as-old-school-financial-firms-come-out-to-play/\",\\n            \"description\": \"Bitcoin cash token soars 66%; Spot-market ETFs, new digital exchange revive sentiment.\\\\n\",\\n            \"source\": \"forbes.com\",\\n            \"tickers\": [],\\n            \"tags\": [\\n                \"Bitcoin\",\\n                \"Bitcoin Cash\",\\n                \"Bitcoin Etf\",\\n                \"Crackdown\",\\n                \"CryptoCurrency\",\\n                \"Cryptocurrencies\",\\n                \"Edx\",\\n                \"Ether\"\\n            ],\\n            \"published_at\": \"2023-06-24T00:30:31+00:00\"\\n        }\\n    ]\\n}\\n'"
      ]
     },
     "execution_count": 36,
     "metadata": {},
     "output_type": "execute_result"
    }
   ],
   "source": [
    "result"
   ]
  },
  {
   "cell_type": "code",
   "execution_count": null,
   "metadata": {},
   "outputs": [],
   "source": []
  }
 ],
 "metadata": {
  "kernelspec": {
   "display_name": "llms-playground-s5lnoEX0-py3.10",
   "language": "python",
   "name": "python3"
  },
  "language_info": {
   "codemirror_mode": {
    "name": "ipython",
    "version": 3
   },
   "file_extension": ".py",
   "mimetype": "text/x-python",
   "name": "python",
   "nbconvert_exporter": "python",
   "pygments_lexer": "ipython3",
   "version": "3.10.11"
  },
  "orig_nbformat": 4
 },
 "nbformat": 4,
 "nbformat_minor": 2
}
