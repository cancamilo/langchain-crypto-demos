{
 "cells": [
  {
   "cell_type": "code",
   "execution_count": 1,
   "metadata": {},
   "outputs": [],
   "source": [
    "import openai\n",
    "import os\n",
    "import textwrap\n",
    "import requests\n",
    "import json\n",
    "\n",
    "from dotenv import load_dotenv, find_dotenv\n",
    "_ = load_dotenv(find_dotenv()) # read local .env file\n",
    "\n",
    "OPENAI_API_KEY = os.environ[\"OPENAI_API_KEY\"]"
   ]
  },
  {
   "cell_type": "code",
   "execution_count": 2,
   "metadata": {},
   "outputs": [],
   "source": [
    "from langchain.utilities import BingSearchAPIWrapper\n",
    "from langchain.agents import Tool\n",
    "from langchain.agents import AgentType\n",
    "from langchain.memory import ConversationBufferMemory\n",
    "from langchain import OpenAI\n",
    "from langchain.chat_models import ChatOpenAI\n",
    "from langchain.agents import initialize_agent"
   ]
  },
  {
   "cell_type": "code",
   "execution_count": 3,
   "metadata": {},
   "outputs": [
    {
     "data": {
      "text/plain": [
       "'Current Weather. 8:19 AM.<b> 71° F.</b> RealFeel® 77°. RealFeel Shade™ 70°. Air Quality Fair. Wind N 4 mph. Wind Gusts 5 mph. Sunny More Details. <b>Valencia</b> - BBC <b>Weather</b> <b>Valencia</b> Tonight Low21° Light rain showers and a gentle breeze Tue 4th 31° 21° Wed 5th 30° 22° Thu 6th 30° 22° Fri 7th 30° 20° Sat 8th 31° 20° Sun 9th 32° 21° Mon 10th... Forecast for Spanish towns:<b> València</b> (València/Valencia) - 7-Day<b> weather forecast</b> - Table Weather:<b> València</b> (València/Valencia) - 7-Day<b> weather forecast</b> - Table - State Meteorological Agency - AEMET - Spanish Government <b>Valencia</b> Extended Forecast with high and low temperatures Jul 3 – Jul 9 0.01 Lo:73 Tue, 4 Hi:85 14 Lo:74 Wed, 5 Hi:84 12 Lo:77 Thu, 6 Hi:84 12 Lo:76 Fri, 7 Hi:85 11 Lo:74 Sat, 8 Hi:85 11 Lo:76 Sun, 9 Hi:86 14 Jul 10 – Jul 16 Lo:75 Mon, 10 Hi:90 12 Previsión meteorológica de tres días para <b>Valencia,</b> Comunidad Valenciana,<b></b> España | AccuWeather 2 Aviso amarillo por tormentas El tiempo ahora 6:05 76° F RealFeel® 76° Calidad del aire Buena... Wind Gusts 10 mph.<b> Humidity</b> 78%. Indoor<b> Humidity</b> 78% (Very Humid) Dew Point 71° F. Cloud Cover 19%. Visibility 10 mi. Cloud Ceiling 30000 ft. 84° /69°. 69%. Cloudy and humid with thunderstorms, especially early in the day. RealFeel® 86°. RealFeel Shade™ 84°. Max UV Index 3 Moderate. Wind NW 7 mph. Cielo mayormente despejado. Mínima de 23 C. Vientos del NNE de 10 a 15 km/h. Humedad 78%. Índice UV 0 de 11. Salida de Luna 23:03. Consult the weather in Valencia, Valencia for the next 14 days, updated weather forecast. Temperature, chance of rain and wind speed in Valencia.'"
      ]
     },
     "execution_count": 3,
     "metadata": {},
     "output_type": "execute_result"
    }
   ],
   "source": [
    "# Test the bing search APi\n",
    "search = BingSearchAPIWrapper()\n",
    "search.run(\"weather in Valencia\")"
   ]
  },
  {
   "cell_type": "code",
   "execution_count": 17,
   "metadata": {},
   "outputs": [],
   "source": [
    "# memory = ConversationBufferMemory(memory_key=\"chat_history\")\n",
    "memory = ConversationBufferMemory(memory_key=\"chat_history\", return_messages=True)\n",
    "\n",
    "search = BingSearchAPIWrapper()\n",
    "tools = [\n",
    "    Tool(\n",
    "        name = \"Current Search\",\n",
    "        func=search.run,\n",
    "        description=\"useful for when you need to answer questions about current events or the current state of the world\"\n",
    "    ),\n",
    "]\n",
    "\n",
    "# llm=OpenAI(temperature=0)\n",
    "llm = ChatOpenAI(openai_api_key=OPENAI_API_KEY, temperature=0.6)\n",
    "agent_chain = initialize_agent(\n",
    "    tools, \n",
    "    llm, \n",
    "    agent=AgentType.CHAT_CONVERSATIONAL_REACT_DESCRIPTION, \n",
    "    verbose=True, \n",
    "    memory=memory,\n",
    "    handle_parsing_errors=True,\n",
    ")\n"
   ]
  },
  {
   "cell_type": "code",
   "execution_count": 20,
   "metadata": {},
   "outputs": [
    {
     "name": "stdout",
     "output_type": "stream",
     "text": [
      "\n",
      "\n",
      "\u001b[1m> Entering new  chain...\u001b[0m\n",
      "\u001b[32;1m\u001b[1;3m{\n",
      "    \"action\": \"Current Search\",\n",
      "    \"action_input\": \"basic facts about Zebra Technologies\"\n",
      "}\u001b[0m\n",
      "Observation: \u001b[36;1m\u001b[1;3m<b>Zebra Technologies ranked #1 among top</b> companies in the<b> technology</b> industry based on trust by customers, investors and employees. As a responsible corporate citizen,<b> Zebra is committed to strong corporate governance practices and environmental and social initiatives that benefit all stakeholders.</b> Acerca de <b>Zebra Technologies</b> Corporation | <b>Zebra</b> Asistencia y descargas Acerca de <b>Zebra</b> Lo conectamos con el rendimiento: donde no hay límites para lo que vendrá. Donde la innovación se une al propósito. Donde la acción se convierte en evolución. Donde la visión impulsa la experiencia. QUIÉNES Somos Zebra Technologies Corporation is<b> an American mobile computing company specializing in technology used to sense, analyze, and act in real time.</b> The company <b>manufactures and sells marking, tracking, and computer printing technologies.</b> <b>Zebra Technologies</b> ocupó el primer lugar entre las principales empresas en la industria de la tecnología según la confianza de los clientes, inversionistas y empleados. Como ciudadano corporativo responsable, <b>Zebra</b> está comprometida con sólidas prácticas de gobierno corporativo e iniciativas ambientales y sociales que benefician a todas ... <b>Zebra</b>, un líder mundial en soluciones digitales innovadoras, de hardware y software, posibilita que las empresas de cualquier tamaño conecten los datos, activos y las personas de forma inteligente. 12 <b>Facts</b> <b>About Zebra</b> <b>Technologies</b> 1. <b>Zebra</b> <b>Technologies</b> Corporation is an American mobile computing company specializing in technology used to sense, analyze, and act in real time. FactSnippet No. 795,455 2. <b>Zebra</b> <b>Technologies</b> was incorporated in 1969 as Data Specialties Incorporated, a manufacturer of high-speed electromechanical products. <b>Zebra Technologies</b> | 310,163 followers on LinkedIn. <b>Zebra</b> (NASDAQ: ZBRA) empowers organizations to thrive in the on-demand economy by making every front-line worker and asset at the edge visible ... <b>Zebra&#39;s</b> location technologies provide real-time tracking for your organization to better manage and optimize your critical assets and create more efficient workflows. <b>About Zebra</b> <b>Technologies</b>. <b>Zebra</b> <b>Technologies</b> Corp. engages in designing, manufacturing and selling of automatic identification and data capture products. Its products include mobile computers ...\u001b[0m\n",
      "Thought:\u001b[32;1m\u001b[1;3m{\n",
      "    \"action\": \"Final Answer\",\n",
      "    \"action_input\": \"Zebra Technologies Corporation is an American mobile computing company specializing in technology used to sense, analyze, and act in real time. The company manufactures and sells marking, tracking, and computer printing technologies. Zebra Technologies ranked #1 among top companies in the technology industry based on trust by customers, investors, and employees. As a responsible corporate citizen, Zebra is committed to strong corporate governance practices and environmental and social initiatives that benefit all stakeholders.\"\n",
      "}\u001b[0m\n",
      "\n",
      "\u001b[1m> Finished chain.\u001b[0m\n"
     ]
    },
    {
     "data": {
      "text/plain": [
       "'Zebra Technologies Corporation is an American mobile computing company specializing in technology used to sense, analyze, and act in real time. The company manufactures and sells marking, tracking, and computer printing technologies. Zebra Technologies ranked #1 among top companies in the technology industry based on trust by customers, investors, and employees. As a responsible corporate citizen, Zebra is committed to strong corporate governance practices and environmental and social initiatives that benefit all stakeholders.'"
      ]
     },
     "execution_count": 20,
     "metadata": {},
     "output_type": "execute_result"
    }
   ],
   "source": [
    "agent_chain.run(input=\"Give me basic facts about the company zebra technologies?\")"
   ]
  },
  {
   "cell_type": "code",
   "execution_count": 21,
   "metadata": {},
   "outputs": [
    {
     "data": {
      "text/plain": [
       "ConversationBufferMemory(chat_memory=ChatMessageHistory(messages=[HumanMessage(content='What should I wear today in Valencia?', additional_kwargs={}, example=False), AIMessage(content='The current weather in Valencia is 71°F with a RealFeel® temperature of 77°F. It is sunny with a gentle breeze. You may want to wear light and comfortable clothing.', additional_kwargs={}, example=False), HumanMessage(content='Is the world in an economic recession?', additional_kwargs={}, example=False), AIMessage(content='The information obtained suggests that there have been recent concerns and discussions about the possibility of a global recession, with some indicators pointing to a weakening global economy and potential downturns in certain regions. However, it is important to note that economic conditions can change rapidly, and it is recommended to consult up-to-date and reliable sources for the most accurate information on the current state of the global economy.', additional_kwargs={}, example=False), HumanMessage(content='Give me basic facts about the company zebra technologies?', additional_kwargs={}, example=False), AIMessage(content='Zebra Technologies Corporation is an American mobile computing company specializing in technology used to sense, analyze, and act in real time. The company manufactures and sells marking, tracking, and computer printing technologies. Zebra Technologies ranked #1 among top companies in the technology industry based on trust by customers, investors, and employees. As a responsible corporate citizen, Zebra is committed to strong corporate governance practices and environmental and social initiatives that benefit all stakeholders.', additional_kwargs={}, example=False)]), output_key=None, input_key=None, return_messages=True, human_prefix='Human', ai_prefix='AI', memory_key='chat_history')"
      ]
     },
     "execution_count": 21,
     "metadata": {},
     "output_type": "execute_result"
    }
   ],
   "source": [
    "agent_chain.memory\n"
   ]
  },
  {
   "cell_type": "code",
   "execution_count": 25,
   "metadata": {},
   "outputs": [
    {
     "ename": "OutputParserException",
     "evalue": "Could not parse LLM output: `Do I need to use a tool? No`",
     "output_type": "error",
     "traceback": [
      "\u001b[0;31m---------------------------------------------------------------------------\u001b[0m",
      "\u001b[0;31mOutputParserException\u001b[0m                     Traceback (most recent call last)",
      "Cell \u001b[0;32mIn[25], line 1\u001b[0m\n\u001b[0;32m----> 1\u001b[0m agent_chain\u001b[39m.\u001b[39;49mrun(\u001b[39minput\u001b[39;49m\u001b[39m=\u001b[39;49m\u001b[39m\"\u001b[39;49m\u001b[39mWhat is the expected growth of Intel?\u001b[39;49m\u001b[39m\"\u001b[39;49m)\n",
      "File \u001b[0;32m~/Library/Caches/pypoetry/virtualenvs/llms-playground-s5lnoEX0-py3.10/lib/python3.10/site-packages/langchain/chains/base.py:276\u001b[0m, in \u001b[0;36mChain.run\u001b[0;34m(self, callbacks, tags, *args, **kwargs)\u001b[0m\n\u001b[1;32m    273\u001b[0m     \u001b[39mreturn\u001b[39;00m \u001b[39mself\u001b[39m(args[\u001b[39m0\u001b[39m], callbacks\u001b[39m=\u001b[39mcallbacks, tags\u001b[39m=\u001b[39mtags)[_output_key]\n\u001b[1;32m    275\u001b[0m \u001b[39mif\u001b[39;00m kwargs \u001b[39mand\u001b[39;00m \u001b[39mnot\u001b[39;00m args:\n\u001b[0;32m--> 276\u001b[0m     \u001b[39mreturn\u001b[39;00m \u001b[39mself\u001b[39;49m(kwargs, callbacks\u001b[39m=\u001b[39;49mcallbacks, tags\u001b[39m=\u001b[39;49mtags)[_output_key]\n\u001b[1;32m    278\u001b[0m \u001b[39mif\u001b[39;00m \u001b[39mnot\u001b[39;00m kwargs \u001b[39mand\u001b[39;00m \u001b[39mnot\u001b[39;00m args:\n\u001b[1;32m    279\u001b[0m     \u001b[39mraise\u001b[39;00m \u001b[39mValueError\u001b[39;00m(\n\u001b[1;32m    280\u001b[0m         \u001b[39m\"\u001b[39m\u001b[39m`run` supported with either positional arguments or keyword arguments,\u001b[39m\u001b[39m\"\u001b[39m\n\u001b[1;32m    281\u001b[0m         \u001b[39m\"\u001b[39m\u001b[39m but none were provided.\u001b[39m\u001b[39m\"\u001b[39m\n\u001b[1;32m    282\u001b[0m     )\n",
      "File \u001b[0;32m~/Library/Caches/pypoetry/virtualenvs/llms-playground-s5lnoEX0-py3.10/lib/python3.10/site-packages/langchain/chains/base.py:149\u001b[0m, in \u001b[0;36mChain.__call__\u001b[0;34m(self, inputs, return_only_outputs, callbacks, tags, include_run_info)\u001b[0m\n\u001b[1;32m    147\u001b[0m \u001b[39mexcept\u001b[39;00m (\u001b[39mKeyboardInterrupt\u001b[39;00m, \u001b[39mException\u001b[39;00m) \u001b[39mas\u001b[39;00m e:\n\u001b[1;32m    148\u001b[0m     run_manager\u001b[39m.\u001b[39mon_chain_error(e)\n\u001b[0;32m--> 149\u001b[0m     \u001b[39mraise\u001b[39;00m e\n\u001b[1;32m    150\u001b[0m run_manager\u001b[39m.\u001b[39mon_chain_end(outputs)\n\u001b[1;32m    151\u001b[0m final_outputs: Dict[\u001b[39mstr\u001b[39m, Any] \u001b[39m=\u001b[39m \u001b[39mself\u001b[39m\u001b[39m.\u001b[39mprep_outputs(\n\u001b[1;32m    152\u001b[0m     inputs, outputs, return_only_outputs\n\u001b[1;32m    153\u001b[0m )\n",
      "File \u001b[0;32m~/Library/Caches/pypoetry/virtualenvs/llms-playground-s5lnoEX0-py3.10/lib/python3.10/site-packages/langchain/chains/base.py:143\u001b[0m, in \u001b[0;36mChain.__call__\u001b[0;34m(self, inputs, return_only_outputs, callbacks, tags, include_run_info)\u001b[0m\n\u001b[1;32m    137\u001b[0m run_manager \u001b[39m=\u001b[39m callback_manager\u001b[39m.\u001b[39mon_chain_start(\n\u001b[1;32m    138\u001b[0m     dumpd(\u001b[39mself\u001b[39m),\n\u001b[1;32m    139\u001b[0m     inputs,\n\u001b[1;32m    140\u001b[0m )\n\u001b[1;32m    141\u001b[0m \u001b[39mtry\u001b[39;00m:\n\u001b[1;32m    142\u001b[0m     outputs \u001b[39m=\u001b[39m (\n\u001b[0;32m--> 143\u001b[0m         \u001b[39mself\u001b[39;49m\u001b[39m.\u001b[39;49m_call(inputs, run_manager\u001b[39m=\u001b[39;49mrun_manager)\n\u001b[1;32m    144\u001b[0m         \u001b[39mif\u001b[39;00m new_arg_supported\n\u001b[1;32m    145\u001b[0m         \u001b[39melse\u001b[39;00m \u001b[39mself\u001b[39m\u001b[39m.\u001b[39m_call(inputs)\n\u001b[1;32m    146\u001b[0m     )\n\u001b[1;32m    147\u001b[0m \u001b[39mexcept\u001b[39;00m (\u001b[39mKeyboardInterrupt\u001b[39;00m, \u001b[39mException\u001b[39;00m) \u001b[39mas\u001b[39;00m e:\n\u001b[1;32m    148\u001b[0m     run_manager\u001b[39m.\u001b[39mon_chain_error(e)\n",
      "File \u001b[0;32m~/Library/Caches/pypoetry/virtualenvs/llms-playground-s5lnoEX0-py3.10/lib/python3.10/site-packages/langchain/agents/agent.py:957\u001b[0m, in \u001b[0;36mAgentExecutor._call\u001b[0;34m(self, inputs, run_manager)\u001b[0m\n\u001b[1;32m    955\u001b[0m \u001b[39m# We now enter the agent loop (until it returns something).\u001b[39;00m\n\u001b[1;32m    956\u001b[0m \u001b[39mwhile\u001b[39;00m \u001b[39mself\u001b[39m\u001b[39m.\u001b[39m_should_continue(iterations, time_elapsed):\n\u001b[0;32m--> 957\u001b[0m     next_step_output \u001b[39m=\u001b[39m \u001b[39mself\u001b[39;49m\u001b[39m.\u001b[39;49m_take_next_step(\n\u001b[1;32m    958\u001b[0m         name_to_tool_map,\n\u001b[1;32m    959\u001b[0m         color_mapping,\n\u001b[1;32m    960\u001b[0m         inputs,\n\u001b[1;32m    961\u001b[0m         intermediate_steps,\n\u001b[1;32m    962\u001b[0m         run_manager\u001b[39m=\u001b[39;49mrun_manager,\n\u001b[1;32m    963\u001b[0m     )\n\u001b[1;32m    964\u001b[0m     \u001b[39mif\u001b[39;00m \u001b[39misinstance\u001b[39m(next_step_output, AgentFinish):\n\u001b[1;32m    965\u001b[0m         \u001b[39mreturn\u001b[39;00m \u001b[39mself\u001b[39m\u001b[39m.\u001b[39m_return(\n\u001b[1;32m    966\u001b[0m             next_step_output, intermediate_steps, run_manager\u001b[39m=\u001b[39mrun_manager\n\u001b[1;32m    967\u001b[0m         )\n",
      "File \u001b[0;32m~/Library/Caches/pypoetry/virtualenvs/llms-playground-s5lnoEX0-py3.10/lib/python3.10/site-packages/langchain/agents/agent.py:773\u001b[0m, in \u001b[0;36mAgentExecutor._take_next_step\u001b[0;34m(self, name_to_tool_map, color_mapping, inputs, intermediate_steps, run_manager)\u001b[0m\n\u001b[1;32m    771\u001b[0m     raise_error \u001b[39m=\u001b[39m \u001b[39mFalse\u001b[39;00m\n\u001b[1;32m    772\u001b[0m \u001b[39mif\u001b[39;00m raise_error:\n\u001b[0;32m--> 773\u001b[0m     \u001b[39mraise\u001b[39;00m e\n\u001b[1;32m    774\u001b[0m text \u001b[39m=\u001b[39m \u001b[39mstr\u001b[39m(e)\n\u001b[1;32m    775\u001b[0m \u001b[39mif\u001b[39;00m \u001b[39misinstance\u001b[39m(\u001b[39mself\u001b[39m\u001b[39m.\u001b[39mhandle_parsing_errors, \u001b[39mbool\u001b[39m):\n",
      "File \u001b[0;32m~/Library/Caches/pypoetry/virtualenvs/llms-playground-s5lnoEX0-py3.10/lib/python3.10/site-packages/langchain/agents/agent.py:762\u001b[0m, in \u001b[0;36mAgentExecutor._take_next_step\u001b[0;34m(self, name_to_tool_map, color_mapping, inputs, intermediate_steps, run_manager)\u001b[0m\n\u001b[1;32m    756\u001b[0m \u001b[39m\u001b[39m\u001b[39m\"\"\"Take a single step in the thought-action-observation loop.\u001b[39;00m\n\u001b[1;32m    757\u001b[0m \n\u001b[1;32m    758\u001b[0m \u001b[39mOverride this to take control of how the agent makes and acts on choices.\u001b[39;00m\n\u001b[1;32m    759\u001b[0m \u001b[39m\"\"\"\u001b[39;00m\n\u001b[1;32m    760\u001b[0m \u001b[39mtry\u001b[39;00m:\n\u001b[1;32m    761\u001b[0m     \u001b[39m# Call the LLM to see what to do.\u001b[39;00m\n\u001b[0;32m--> 762\u001b[0m     output \u001b[39m=\u001b[39m \u001b[39mself\u001b[39;49m\u001b[39m.\u001b[39;49magent\u001b[39m.\u001b[39;49mplan(\n\u001b[1;32m    763\u001b[0m         intermediate_steps,\n\u001b[1;32m    764\u001b[0m         callbacks\u001b[39m=\u001b[39;49mrun_manager\u001b[39m.\u001b[39;49mget_child() \u001b[39mif\u001b[39;49;00m run_manager \u001b[39melse\u001b[39;49;00m \u001b[39mNone\u001b[39;49;00m,\n\u001b[1;32m    765\u001b[0m         \u001b[39m*\u001b[39;49m\u001b[39m*\u001b[39;49minputs,\n\u001b[1;32m    766\u001b[0m     )\n\u001b[1;32m    767\u001b[0m \u001b[39mexcept\u001b[39;00m OutputParserException \u001b[39mas\u001b[39;00m e:\n\u001b[1;32m    768\u001b[0m     \u001b[39mif\u001b[39;00m \u001b[39misinstance\u001b[39m(\u001b[39mself\u001b[39m\u001b[39m.\u001b[39mhandle_parsing_errors, \u001b[39mbool\u001b[39m):\n",
      "File \u001b[0;32m~/Library/Caches/pypoetry/virtualenvs/llms-playground-s5lnoEX0-py3.10/lib/python3.10/site-packages/langchain/agents/agent.py:444\u001b[0m, in \u001b[0;36mAgent.plan\u001b[0;34m(self, intermediate_steps, callbacks, **kwargs)\u001b[0m\n\u001b[1;32m    442\u001b[0m full_inputs \u001b[39m=\u001b[39m \u001b[39mself\u001b[39m\u001b[39m.\u001b[39mget_full_inputs(intermediate_steps, \u001b[39m*\u001b[39m\u001b[39m*\u001b[39mkwargs)\n\u001b[1;32m    443\u001b[0m full_output \u001b[39m=\u001b[39m \u001b[39mself\u001b[39m\u001b[39m.\u001b[39mllm_chain\u001b[39m.\u001b[39mpredict(callbacks\u001b[39m=\u001b[39mcallbacks, \u001b[39m*\u001b[39m\u001b[39m*\u001b[39mfull_inputs)\n\u001b[0;32m--> 444\u001b[0m \u001b[39mreturn\u001b[39;00m \u001b[39mself\u001b[39;49m\u001b[39m.\u001b[39;49moutput_parser\u001b[39m.\u001b[39;49mparse(full_output)\n",
      "File \u001b[0;32m~/Library/Caches/pypoetry/virtualenvs/llms-playground-s5lnoEX0-py3.10/lib/python3.10/site-packages/langchain/agents/conversational/output_parser.py:23\u001b[0m, in \u001b[0;36mConvoOutputParser.parse\u001b[0;34m(self, text)\u001b[0m\n\u001b[1;32m     21\u001b[0m match \u001b[39m=\u001b[39m re\u001b[39m.\u001b[39msearch(regex, text)\n\u001b[1;32m     22\u001b[0m \u001b[39mif\u001b[39;00m \u001b[39mnot\u001b[39;00m match:\n\u001b[0;32m---> 23\u001b[0m     \u001b[39mraise\u001b[39;00m OutputParserException(\u001b[39mf\u001b[39m\u001b[39m\"\u001b[39m\u001b[39mCould not parse LLM output: `\u001b[39m\u001b[39m{\u001b[39;00mtext\u001b[39m}\u001b[39;00m\u001b[39m`\u001b[39m\u001b[39m\"\u001b[39m)\n\u001b[1;32m     24\u001b[0m action \u001b[39m=\u001b[39m match\u001b[39m.\u001b[39mgroup(\u001b[39m1\u001b[39m)\n\u001b[1;32m     25\u001b[0m action_input \u001b[39m=\u001b[39m match\u001b[39m.\u001b[39mgroup(\u001b[39m2\u001b[39m)\n",
      "\u001b[0;31mOutputParserException\u001b[0m: Could not parse LLM output: `Do I need to use a tool? No`"
     ]
    }
   ],
   "source": [
    "agent_chain.run(input=\"What is the expected growth of Intel?\")"
   ]
  },
  {
   "cell_type": "code",
   "execution_count": 13,
   "metadata": {},
   "outputs": [
    {
     "name": "stdout",
     "output_type": "stream",
     "text": [
      "\n",
      "\n",
      "\u001b[1m> Entering new  chain...\u001b[0m\n",
      "\u001b[32;1m\u001b[1;3m\n",
      "Thought: Do I need to use a tool? No\n",
      "AI: EPS stands for Earnings Per Share and is a measure of a company's profitability. It is calculated by dividing the company's net income by its total number of outstanding shares. EPS is used to measure the profitability of a company and is an important metric for investors.\u001b[0m\n",
      "\n",
      "\u001b[1m> Finished chain.\u001b[0m\n"
     ]
    },
    {
     "data": {
      "text/plain": [
       "\"EPS stands for Earnings Per Share and is a measure of a company's profitability. It is calculated by dividing the company's net income by its total number of outstanding shares. EPS is used to measure the profitability of a company and is an important metric for investors.\""
      ]
     },
     "execution_count": 13,
     "metadata": {},
     "output_type": "execute_result"
    }
   ],
   "source": [
    "agent_chain.run(input=\"What is EPS?\")"
   ]
  },
  {
   "cell_type": "code",
   "execution_count": 18,
   "metadata": {},
   "outputs": [
    {
     "name": "stdout",
     "output_type": "stream",
     "text": [
      "\n",
      "\n",
      "\u001b[1m> Entering new  chain...\u001b[0m\n",
      "\u001b[32;1m\u001b[1;3mThought: Do I need to use a tool? Yes\n",
      "Action: Current Search\n",
      "Action Input: \"Intel vs AMD stock investment\"\u001b[0m\n",
      "Observation: \u001b[36;1m\u001b[1;3m<b>Intel ( INTC 0.89%)</b> and<b> Advanced Micro Devices ( AMD -0.62%)</b> have experienced contrasting starts on the stock market in 2022, with the former heading higher despite the sell-off in tech stocks. <b>A Fortune</b> Business Insights report<b> indicated</b> that while<b> the semiconductor market was worth $425.96 billion last year,</b> it<b> is expected to grow to $803.15 billion in 2028.</b> This indicates a compounded... Battlemage aims for market share parity with AMD and I believe by 2024 Intel will<b> overtake AMD for the #2 spot with 12% share</b> to<b> AMD&#39;s 5%</b> - that means a 3% decline for<b> AMD</b> from today&#39;s numbers. <b>Intel will likely spend more than $100B on new</b> fabs<b> in the</b> next 5 years.<b> AMD</b> continues to sub-contract its chip production. See which stock is the better buy. Back then, <b>Intel</b>&#39;s <b>stock</b> was worth $61.57 compared to <b>AMD</b>&#39;s $61.79, but the picture is quite a bit different now with <b>Intel</b>&#39;s <b>stock</b> weighing in at $48.44 compared to <b>AMD</b>&#39;s $121.47. AMD has enjoyed a superb run in its share price over the past few years as the chart below demonstrates.<b> Over the past 5 years AMD is up 4,225% while Intel is up 89% underperfoming the S&amp;P 500</b> ... <b>Intel (INTC 0.89%)</b> and<b> AMD (AMD-0.62%),</b> the world&#39;s largest producers of x86 CPUs for PCs and data centers, are both considered bellwethers of the semiconductor sector. While <b>AMD</b> <b>stock</b> is up over 18% so far in 2023, outpacing the Nasdaq Composite index&#39;s 10% jump, <b>Intel</b> is down about 3.6%. Let&#39;s see why that&#39;s the case and see if <b>AMD</b> will continue to... Advanced Micro Devices ( <b>AMD</b>) Advanced Micro Devices investors are cheering, as the <b>stock</b> has soared 24.8% in the past month, fueled by strong financial performance in Q3. The chip giant’s ... As of now, <b>AMD</b> <b>stock</b> seems to be a decent option to <b>invest</b> in. Overall, the Street is cautiously optimistic about the <b>stock</b> and has a Moderate Buy consensus rating based on 19 Buys, eight Holds ...\u001b[0m\n",
      "Thought:\u001b[32;1m\u001b[1;3mDo I need to use a tool? Yes\n",
      "Action: Current Search\n",
      "Action Input: \"Intel vs AMD stock investment comparison\"\u001b[0m\n",
      "Observation: \u001b[36;1m\u001b[1;3mUsing the TipRanks Stock Comparison tool, let us compare two semiconductor companies,<b> Intel</b> and<b> AMD,</b> and see how<b> Wall Street analysts feel about</b> these stocks. Intel (NASDAQ: INTC) <b>Intel ( INTC 0.89%)</b> and<b> Advanced Micro Devices ( AMD -0.62%)</b> have experienced contrasting starts on the stock market in 2022, with the former heading higher despite the sell-off in tech stocks. AMD stock trades at 29 times earnings, compared to<b> Intel&#39;s price-to-earnings ratio of 6.</b> Of course, Intel has a nice dividend yield<b> of</b> nearly 4% that AMD doesn&#39;t offer, but the latter has solid ... <b>Intel</b> is a much larger company with revenues of $70 billion TTM (Trailing Twelve months) compared to <b>AMD</b>&#39;s $23 billion. However, price-wise, both companies have suffered over the last year with... Conclusion: Is Intel or AMD Stock the Better Buy? As the 50-year competition between<b> Intel and AMD moves forward, big changes will be coming for</b> both companies, but especially Intel. AMD Investor Performance. AMD has enjoyed a superb run in its share price over the past few years as the chart below demonstrates. Over the past 5 years<b> AMD is up 4,225%</b> while<b> Intel is up 89%</b> ... According to <b>Intel</b>, the semiconductor market is likely to double to $1 trillion by 2030. Using the TipRanks <b>Stock</b> <b>Comparison</b> tool, let us <b>compare</b> two such chip-making companies, <b>Intel</b> and <b>AMD</b>, and ... <b>Intel</b> ( INTC 0.89%) and <b>AMD</b> ( <b>AMD</b> -0.62%), the world&#39;s largest producers of x86 CPUs for PCs and data centers, are both considered bellwethers of the semiconductor sector. <b>AMD</b> is also one... Why is <b>AMD</b> Better than <b>Intel</b>? Don’t settle for mediocrity when you can have the best. <b>AMD</b> <b>stock</b> is better than <b>Intel</b> <b>stock</b> in several ways.\u001b[0m\n",
      "Thought:\u001b[32;1m\u001b[1;3mDo I need to use a tool? No\n",
      "AI: Based on my research, both Intel and AMD have their strengths and weaknesses as stock investments. Intel has a lower price-to-earnings ratio and a higher dividend yield, while AMD has had a better performance in the stock market in recent years. Ultimately, the best choice for you will depend on your specific investment goals and risk tolerance. It's important to do your own research and consult with a financial advisor before making any investment decisions.\u001b[0m\n",
      "\n",
      "\u001b[1m> Finished chain.\u001b[0m\n"
     ]
    },
    {
     "data": {
      "text/plain": [
       "\"Based on my research, both Intel and AMD have their strengths and weaknesses as stock investments. Intel has a lower price-to-earnings ratio and a higher dividend yield, while AMD has had a better performance in the stock market in recent years. Ultimately, the best choice for you will depend on your specific investment goals and risk tolerance. It's important to do your own research and consult with a financial advisor before making any investment decisions.\""
      ]
     },
     "execution_count": 18,
     "metadata": {},
     "output_type": "execute_result"
    }
   ],
   "source": [
    "agent_chain.run(\"Is intel a better stock investment than AMD stock?\")"
   ]
  }
 ],
 "metadata": {
  "kernelspec": {
   "display_name": "llms-playground-s5lnoEX0-py3.10",
   "language": "python",
   "name": "python3"
  },
  "language_info": {
   "codemirror_mode": {
    "name": "ipython",
    "version": 3
   },
   "file_extension": ".py",
   "mimetype": "text/x-python",
   "name": "python",
   "nbconvert_exporter": "python",
   "pygments_lexer": "ipython3",
   "version": "3.10.11"
  },
  "orig_nbformat": 4
 },
 "nbformat": 4,
 "nbformat_minor": 2
}
