{
 "cells": [
  {
   "cell_type": "code",
   "execution_count": 1,
   "metadata": {},
   "outputs": [],
   "source": [
    "%load_ext dotenv \n",
    "%dotenv\n",
    "import os\n",
    "import warnings\n",
    "import openai\n",
    "import textwrap\n",
    "import pandas as pd\n",
    "\n",
    "warnings.filterwarnings('ignore')\n",
    "openai.api_key = os.environ[\"OPENAI_API_KEY\"]"
   ]
  },
  {
   "cell_type": "code",
   "execution_count": 2,
   "metadata": {},
   "outputs": [],
   "source": [
    "# langchain imports\n",
    "from langchain.chains import RetrievalQA\n",
    "from langchain.chat_models import ChatOpenAI\n",
    "from langchain.document_loaders import CSVLoader\n",
    "from langchain.vectorstores import DocArrayInMemorySearch\n",
    "from IPython.display import display, Markdown\n",
    "from langchain.indexes import VectorstoreIndexCreator"
   ]
  },
  {
   "cell_type": "code",
   "execution_count": 3,
   "metadata": {},
   "outputs": [],
   "source": [
    "loader = CSVLoader(file_path=\"project_descriptions.csv\", source_column=\"content\")\n",
    "\n",
    "index = VectorstoreIndexCreator(\n",
    "    vectorstore_cls=DocArrayInMemorySearch\n",
    ").from_loaders([loader])"
   ]
  },
  {
   "cell_type": "code",
   "execution_count": 4,
   "metadata": {},
   "outputs": [
    {
     "data": {
      "text/plain": [
       "(300, 3)"
      ]
     },
     "execution_count": 4,
     "metadata": {},
     "output_type": "execute_result"
    }
   ],
   "source": [
    "pd.read_csv(\"project_descriptions.csv\").shape"
   ]
  },
  {
   "cell_type": "code",
   "execution_count": 40,
   "metadata": {},
   "outputs": [
    {
     "data": {
      "text/markdown": [
       " Fetch.ai is one of the best crypto projects related to artificial intelligence. It is a permissionless, decentralized machine learning network with a crypto economy. Fetch.ai democratizes access to AI technology with a permissionless network upon which anyone can connect and access secure datasets by using autonomous AI to execute tasks that leverage its global network of data. The Fetch.AI model is rooted in use cases like optimizing DeFi trading services, transportation networks (parking, micromobility), smart energy grids, travel — essentially any complex digital system that relies on large-scale datasets."
      ],
      "text/plain": [
       "<IPython.core.display.Markdown object>"
      ]
     },
     "metadata": {},
     "output_type": "display_data"
    }
   ],
   "source": [
    "query = \"What are some of the best crypto projects related to artificial intelligence and why?\"\n",
    "\n",
    "response = index.query(query)\n",
    "display(Markdown(response))"
   ]
  },
  {
   "cell_type": "code",
   "execution_count": 17,
   "metadata": {},
   "outputs": [],
   "source": [
    "from langchain.chat_models import ChatOpenAI\n",
    "from langchain.schema import (\n",
    "    SystemMessage,\n",
    "    HumanMessage,\n",
    "    AIMessage\n",
    ")\n",
    "\n",
    "# To control the randomness and creativity of the generated\n",
    "# text by an LLM, use temperature = 0.0\n",
    "chat = ChatOpenAI(\n",
    "    openai_api_key=os.environ[\"OPENAI_API_KEY\"],\n",
    "    temperature=0,\n",
    "    model='gpt-3.5-turbo'\n",
    ")"
   ]
  },
  {
   "cell_type": "code",
   "execution_count": 35,
   "metadata": {},
   "outputs": [],
   "source": [
    "query = \"What are some of the best crypto projects related to artificial intelligence and why? give me a list of at least 5\"\n",
    "\n",
    "messages = [\n",
    "    SystemMessage(content=\"You are a helpful assistant who is an expert in cryptocurrencies.\"),\n",
    "    HumanMessage(content=query)\n",
    "]\n",
    "response = chat(messages)"
   ]
  },
  {
   "cell_type": "code",
   "execution_count": 34,
   "metadata": {},
   "outputs": [
    {
     "data": {
      "text/markdown": [
       "Sure, here are 10 crypto projects related to artificial intelligence:\n",
       "\n",
       "1. SingularityNET (AGI) - This project aims to create a decentralized marketplace for AI services, allowing developers to monetize their AI algorithms and models.\n",
       "\n",
       "2. Fetch.ai (FET) - This project is building a decentralized network for autonomous economic agents, which can perform tasks such as data analysis and prediction using AI.\n",
       "\n",
       "3. Ocean Protocol (OCEAN) - This project is creating a decentralized data exchange protocol that uses AI to help users discover and monetize their data.\n",
       "\n",
       "4. Numerai (NMR) - This project is a hedge fund that uses AI to make investment decisions. It also allows data scientists to contribute their own AI models to the fund.\n",
       "\n",
       "5. Cortex (CTXC) - This project is building a decentralized AI platform that allows developers to create and deploy AI models on the blockchain.\n",
       "\n",
       "6. DeepBrain Chain (DBC) - This project is building a decentralized AI computing platform that allows users to rent out their computing power to train AI models.\n",
       "\n",
       "7. Matrix AI Network (MAN) - This project is building a blockchain-based AI platform that allows developers to create and deploy AI models using natural language programming.\n",
       "\n",
       "8. Neuromation (NTK) - This project is building a decentralized platform for AI model training and development, using blockchain technology to ensure data privacy and security.\n",
       "\n",
       "9. Endor Protocol (EDR) - This project is building a decentralized predictive analytics platform that uses AI to help businesses make better decisions.\n",
       "\n",
       "10. AICoin (XAI) - This project is a cryptocurrency investment fund that uses AI to make investment decisions, with profits reinvested into the development of AI technology.\n",
       "\n",
       "These projects are all focused on using blockchain technology to improve the development and deployment of AI, and have the potential to revolutionize industries such as finance, healthcare, and more."
      ],
      "text/plain": [
       "<IPython.core.display.Markdown object>"
      ]
     },
     "metadata": {},
     "output_type": "display_data"
    }
   ],
   "source": [
    "display(Markdown(response.content))"
   ]
  }
 ],
 "metadata": {
  "kernelspec": {
   "display_name": "llms-playground-fbsR-P48-py3.10",
   "language": "python",
   "name": "python3"
  },
  "language_info": {
   "codemirror_mode": {
    "name": "ipython",
    "version": 3
   },
   "file_extension": ".py",
   "mimetype": "text/x-python",
   "name": "python",
   "nbconvert_exporter": "python",
   "pygments_lexer": "ipython3",
   "version": "3.10.11"
  },
  "orig_nbformat": 4
 },
 "nbformat": 4,
 "nbformat_minor": 2
}
